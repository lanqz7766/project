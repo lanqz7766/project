{
 "cells": [
  {
   "cell_type": "code",
   "execution_count": 2,
   "metadata": {},
   "outputs": [
    {
     "name": "stderr",
     "output_type": "stream",
     "text": [
      "Using TensorFlow backend.\n"
     ]
    }
   ],
   "source": [
    "from keras.models import Sequential\n",
    "from keras.layers import Dense, Activation, Dropout\n",
    "import pandas as pd\n",
    "import numpy as np\n",
    "from sklearn.utils import class_weight\n",
    "from sklearn.model_selection import train_test_split\n",
    "import seaborn as sns\n",
    "from sklearn.metrics import roc_curve\n",
    "from sklearn.metrics import auc"
   ]
  },
  {
   "cell_type": "code",
   "execution_count": 5,
   "metadata": {},
   "outputs": [],
   "source": [
    "crime_2018_cleaned = pd.read_csv('../data/processed/crime_2018_cleaned.csv', low_memory=False)\n",
    "X = np.array(crime_2018_cleaned.drop('Arrest', axis = 1))\n",
    "y = crime_2018_cleaned['Arrest']"
   ]
  },
  {
   "cell_type": "code",
   "execution_count": 6,
   "metadata": {},
   "outputs": [],
   "source": [
    "from sklearn import preprocessing\n",
    "scaler = preprocessing.MinMaxScaler()\n",
    "X = scaler.fit_transform(X)"
   ]
  },
  {
   "cell_type": "code",
   "execution_count": 45,
   "metadata": {},
   "outputs": [
    {
     "name": "stdout",
     "output_type": "stream",
     "text": [
      "Epoch 1/5\n",
      "214050/214050 [==============================] - 2s 9us/step - loss: 0.4437 - binary_accuracy: 0.8105\n",
      "Epoch 2/5\n",
      "214050/214050 [==============================] - 2s 8us/step - loss: 0.4096 - binary_accuracy: 0.8454\n",
      "Epoch 3/5\n",
      "214050/214050 [==============================] - 2s 10us/step - loss: 0.3990 - binary_accuracy: 0.8519: 0s - loss: 0.4000 - binary_accuracy: 0. - ETA: 0s - loss: 0.3993 - binary_accuracy: 0.8\n",
      "Epoch 4/5\n",
      "214050/214050 [==============================] - 2s 9us/step - loss: 0.3919 - binary_accuracy: 0.8552A: 0s - loss: 0.3932 - binary_accu\n",
      "Epoch 5/5\n",
      "214050/214050 [==============================] - 2s 8us/step - loss: 0.3841 - binary_accuracy: 0.8580\n"
     ]
    }
   ],
   "source": [
    "# Step #3 - Train the Model\n",
    "\n",
    "#For a single-input model with 2 classes (binary classification):\n",
    "\n",
    "model = Sequential()\n",
    "model.add(Dense(32, activation='relu', input_dim=29))\n",
    "model.add(Dense(1, activation='sigmoid'))\n",
    "model.compile(optimizer = 'rmsprop',\n",
    "              loss      = 'binary_crossentropy',\n",
    "              metrics   = ['binary_accuracy'])\n",
    "\n",
    "#  data\n",
    "xTrain, xTest, yTrain, yTest = train_test_split(X, y, test_size=0.2)\n",
    "class_weights = class_weight.compute_class_weight('balanced',\n",
    "                                                 np.unique(yTrain),\n",
    "                                                 yTrain)\n",
    "# data = X\n",
    "# labels = y\n",
    "\n",
    "# Train the model, iterating on the data in batches of 32 samples\n",
    "# model.fit(data, labels, epochs=10, batch_size=32, class_weight=class_weights)\n",
    "model.fit(xTrain, yTrain, epochs = 5, batch_size = 128, class_weight=class_weights)\n",
    "yPred_prob = model.predict(xTest, batch_size=128)\n",
    "# yPred = np.argmax(yPred_prob, axis=-1)\n",
    "yPred = model.predict_classes(xTest)\n",
    "y_pred_keras = model.predict(xTest).ravel()\n",
    "fpr_keras, tpr_keras, thresholds_keras = roc_curve(yTest, y_pred_keras)\n",
    "# score = model.evaluate(xTest, yTest, batch_size = 128)\n",
    "# print(score)"
   ]
  },
  {
   "cell_type": "code",
   "execution_count": 47,
   "metadata": {},
   "outputs": [
    {
     "data": {
      "text/plain": [
       "array([[0],\n",
       "       [0],\n",
       "       [0],\n",
       "       ...,\n",
       "       [0],\n",
       "       [0],\n",
       "       [1]], dtype=int32)"
      ]
     },
     "execution_count": 47,
     "metadata": {},
     "output_type": "execute_result"
    }
   ],
   "source": [
    "yPred"
   ]
  },
  {
   "cell_type": "code",
   "execution_count": 30,
   "metadata": {},
   "outputs": [],
   "source": [
    "auc_keras = auc(fpr_keras,tpr_keras)"
   ]
  },
  {
   "cell_type": "code",
   "execution_count": 31,
   "metadata": {},
   "outputs": [
    {
     "data": {
      "text/plain": [
       "0.832886429738717"
      ]
     },
     "execution_count": 31,
     "metadata": {},
     "output_type": "execute_result"
    }
   ],
   "source": [
    "auc_keras "
   ]
  },
  {
   "cell_type": "code",
   "execution_count": 3,
   "metadata": {},
   "outputs": [],
   "source": [
    "from sklearn.neural_network import MLPClassifier\n",
    "from sklearn import preprocessing\n",
    "from sklearn.datasets import make_classification\n",
    "from sklearn.model_selection import StratifiedKFold, train_test_split\n",
    "from sklearn.metrics import *\n",
    "import matplotlib.pyplot as plt"
   ]
  },
  {
   "cell_type": "code",
   "execution_count": 49,
   "metadata": {},
   "outputs": [
    {
     "name": "stdout",
     "output_type": "stream",
     "text": [
      "Epoch 1/5\n",
      "214050/214050 [==============================] - 2s 11us/step - loss: 0.4374 - accuracy: 0.8102\n",
      "Epoch 2/5\n",
      "214050/214050 [==============================] - 2s 9us/step - loss: 0.4028 - accuracy: 0.8390: 1s - loss: 0.4059 - ac - ETA: 0s -\n",
      "Epoch 3/5\n",
      "214050/214050 [==============================] - 2s 8us/step - loss: 0.3841 - accuracy: 0.8525\n",
      "Epoch 4/5\n",
      "214050/214050 [==============================] - 2s 8us/step - loss: 0.3694 - accuracy: 0.8596\n",
      "Epoch 5/5\n",
      "214050/214050 [==============================] - 2s 8us/step - loss: 0.3603 - accuracy: 0.8633: 0s - loss: 0.3603 - accu\n",
      "Epoch 1/5\n",
      "214050/214050 [==============================] - 2s 9us/step - loss: 0.4413 - accuracy: 0.8053\n",
      "Epoch 2/5\n",
      "214050/214050 [==============================] - 2s 9us/step - loss: 0.4041 - accuracy: 0.8386\n",
      "Epoch 3/5\n",
      "214050/214050 [==============================] - 2s 8us/step - loss: 0.3853 - accuracy: 0.8520\n",
      "Epoch 4/5\n",
      "214050/214050 [==============================] - 2s 8us/step - loss: 0.3708 - accuracy: 0.8589\n",
      "Epoch 5/5\n",
      "214050/214050 [==============================] - 2s 8us/step - loss: 0.3616 - accuracy: 0.8625\n",
      "Epoch 1/5\n",
      "214050/214050 [==============================] - 2s 9us/step - loss: 0.4422 - accuracy: 0.8069\n",
      "Epoch 2/5\n",
      "214050/214050 [==============================] - 2s 8us/step - loss: 0.4095 - accuracy: 0.8344\n",
      "Epoch 3/5\n",
      "214050/214050 [==============================] - 2s 8us/step - loss: 0.3954 - accuracy: 0.8477\n",
      "Epoch 4/5\n",
      "214050/214050 [==============================] - 2s 8us/step - loss: 0.3825 - accuracy: 0.8552\n",
      "Epoch 5/5\n",
      "214050/214050 [==============================] - 2s 9us/step - loss: 0.3701 - accuracy: 0.8597\n",
      "Epoch 1/5\n",
      "214051/214051 [==============================] - 2s 10us/step - loss: 0.4446 - accuracy: 0.8021\n",
      "Epoch 2/5\n",
      "214051/214051 [==============================] - 2s 11us/step - loss: 0.4121 - accuracy: 0.8293\n",
      "Epoch 3/5\n",
      "214051/214051 [==============================] - 2s 10us/step - loss: 0.3956 - accuracy: 0.8444\n",
      "Epoch 4/5\n",
      "214051/214051 [==============================] - 2s 7us/step - loss: 0.3809 - accuracy: 0.8542\n",
      "Epoch 5/5\n",
      "214051/214051 [==============================] - 2s 7us/step - loss: 0.3691 - accuracy: 0.8594\n",
      "Epoch 1/5\n",
      "214051/214051 [==============================] - 2s 8us/step - loss: 0.4394 - accuracy: 0.8097\n",
      "Epoch 2/5\n",
      "214051/214051 [==============================] - 2s 7us/step - loss: 0.4011 - accuracy: 0.8463\n",
      "Epoch 3/5\n",
      "214051/214051 [==============================] - 1s 7us/step - loss: 0.3803 - accuracy: 0.8575\n",
      "Epoch 4/5\n",
      "214051/214051 [==============================] - 2s 7us/step - loss: 0.3658 - accuracy: 0.8625\n",
      "Epoch 5/5\n",
      "214051/214051 [==============================] - 1s 7us/step - loss: 0.3573 - accuracy: 0.8651\n"
     ]
    },
    {
     "data": {
      "image/png": "[encoded data removed]",
      "text/plain": [
       "<Figure size 432x288 with 1 Axes>"
      ]
     },
     "metadata": {
      "needs_background": "light"
     },
     "output_type": "display_data"
    },
    {
     "name": "stdout",
     "output_type": "stream",
     "text": [
      "[[207793, 6377], [30697, 22696]]\n"
     ]
    },
    {
     "data": {
      "text/plain": [
       "Text(0.5, 1, 'Confusion Matrix')"
      ]
     },
     "execution_count": 49,
     "metadata": {},
     "output_type": "execute_result"
    },
    {
     "data": {
      "image/png": "[encoded data removed]",
      "text/plain": [
       "<Figure size 432x288 with 1 Axes>"
      ]
     },
     "metadata": {
      "needs_background": "light"
     },
     "output_type": "display_data"
    }
   ],
   "source": [
    "###### How do we use this in Cross Validation?\n",
    "\n",
    "from scipy import interp\n",
    "\n",
    "skf = StratifiedKFold(n_splits=5)\n",
    "\n",
    "tprs = []\n",
    "aucs = []\n",
    "mean_fpr = np.linspace(0, 1, 100)\n",
    "acc = []\n",
    "f1 = []\n",
    "cm = []\n",
    "i=0\n",
    "for trainIndex, textIndex in skf.split(X, y):\n",
    "    xTrain, xTest = X[trainIndex], X[textIndex]\n",
    "    yTrain, yTest = y[trainIndex], y[textIndex]\n",
    "    \n",
    "    model = Sequential()\n",
    "    model.add(Dense(32, activation='relu', input_dim=29))\n",
    "    model.add(Dense(1, activation='sigmoid'))\n",
    "    model.compile(optimizer = 'rmsprop',\n",
    "                  loss      = 'binary_crossentropy',\n",
    "                  metrics   = ['accuracy'])\n",
    "\n",
    "    #  data\n",
    "    class_weights = class_weight.compute_class_weight('balanced',\n",
    "                                                 np.unique(yTrain),\n",
    "                                                 yTrain)  \n",
    "    # fit model\n",
    "    model.fit(xTrain, yTrain, epochs = 5, batch_size = 128, class_weight=class_weights)\n",
    "    \n",
    "    yPred_prob = model.predict(xTest, batch_size=128)\n",
    "    yPred = model.predict_classes(xTest)\n",
    "    # All Scores\n",
    "    acc.append(accuracy_score(yTest, yPred))\n",
    "    f1.append(f1_score(yTest,yPred))\n",
    "    cm.append(confusion_matrix(yTest,yPred))\n",
    "    \n",
    "    # ROC Curve\n",
    "    fpr, tpr, thresholds = roc_curve(yTest, yPred)\n",
    "    tprs.append(interp(mean_fpr, fpr, tpr))\n",
    "    tprs[-1][0] = 0.0\n",
    "    roc_auc = auc(fpr, tpr)\n",
    "    aucs.append(roc_auc)\n",
    "    plt.plot(fpr, tpr, lw=1, alpha=0.3,\n",
    "             label='ROC fold %d (AUC = %0.2f)' % (i, roc_auc))\n",
    "    i = i+1\n",
    "    \n",
    "plt.plot([0, 1], [0, 1], linestyle='--', lw=2, color='r', label='Chance', alpha=.8)\n",
    "\n",
    "mean_tpr = np.mean(tprs, axis=0)\n",
    "mean_tpr[-1] = 1.0\n",
    "mean_auc = auc(mean_fpr, mean_tpr)\n",
    "std_auc = np.std(aucs)\n",
    "plt.plot(mean_fpr, mean_tpr, color='b',\n",
    "         label=r'Mean ROC (AUC = %0.2f $\\pm$ %0.2f)' % (mean_auc, std_auc),\n",
    "         lw=2, alpha=.8)\n",
    "\n",
    "std_tpr = np.std(tprs, axis=0)\n",
    "tprs_upper = np.minimum(mean_tpr + std_tpr, 1)\n",
    "tprs_lower = np.maximum(mean_tpr - std_tpr, 0)\n",
    "plt.fill_between(mean_fpr, tprs_lower, tprs_upper, color='grey', alpha=.2,\n",
    "                 label=r'$\\pm$ 1 std. dev.')\n",
    "\n",
    "plt.xlim([-0.05, 1.05])\n",
    "plt.ylim([-0.05, 1.05])\n",
    "plt.xlabel('False Positive Rate')\n",
    "plt.ylabel('True Positive Rate')\n",
    "plt.title('Receiver operating characteristic example')\n",
    "plt.legend(loc=\"lower right\")\n",
    "plt.show()\n",
    "    \n",
    "   \n",
    "# # print(cm)\n",
    "# print(cm[0])\n",
    "tp = fp = fn = tn = 0\n",
    "for m in cm:\n",
    "    tp += m[0][0]\n",
    "    fp += m[0][1]\n",
    "    \n",
    "    fn += m[1][0]\n",
    "    tn += m[1][1]\n",
    "    \n",
    "# print(tp, fp, fn, tn)\n",
    "finalCM = [[tp, fp], [fn, tn]]\n",
    "\n",
    "print(finalCM)\n",
    "ax = sns.heatmap(finalCM, annot=True, cbar=False, fmt='g')\n",
    "bottom, top = ax.get_ylim()\n",
    "ax.set_ylim(bottom + 0.5, top - 0.5)\n",
    "plt.ylabel('True Label')\n",
    "plt.xlabel('Predicted Label')\n",
    "plt.title('Confusion Matrix')"
   ]
  },
  {
   "cell_type": "code",
   "execution_count": null,
   "metadata": {},
   "outputs": [],
   "source": [
    "# How do we use this in Cross Validation?\n",
    "\n",
    "from scipy import interp\n",
    "\n",
    "skf = StratifiedKFold(n_splits=5)\n",
    "\n",
    "tprs = []\n",
    "aucs = []\n",
    "mean_fpr = np.linspace(0, 1, 100)\n",
    "acc = []\n",
    "f1 = []\n",
    "mcc = []\n",
    "cm = []\n",
    "i=0\n",
    "for trainIndex, textIndex in skf.split(X, y):\n",
    "    xTrain, xTest = X[trainIndex], X[textIndex]\n",
    "    yTrain, yTest = y[trainIndex], y[textIndex]\n",
    "    \n",
    "    clf = MLPClassifier(solver='lbfgs', alpha=100, hidden_layer_sizes=(100,), max_iter = 300)\n",
    "    clf.fit(xTrain, yTrain.values.ravel())  \n",
    "    \n",
    "    yPred = clf.predict(xTest)\n",
    "    \n",
    "    # All Scores\n",
    "    acc.append(accuracy_score(yTest, yPred))\n",
    "    f1.append(f1_score(yPred,yTest))\n",
    "    mcc.append(matthews_corrcoef(yTest, yPred))\n",
    "    cm.append(confusion_matrix(yTest,yPred))\n",
    "    \n",
    "    # ROC Curve\n",
    "    fpr, tpr, thresholds = roc_curve(yTest, yPred)\n",
    "    tprs.append(interp(mean_fpr, fpr, tpr))\n",
    "    tprs[-1][0] = 0.0\n",
    "    roc_auc = auc(fpr, tpr)\n",
    "    aucs.append(roc_auc)\n",
    "    plt.plot(fpr, tpr, lw=1, alpha=0.3,\n",
    "             label='ROC fold %d (AUC = %0.2f)' % (i, roc_auc))\n",
    "    i = i+1\n",
    "    \n",
    "plt.plot([0, 1], [0, 1], linestyle='--', lw=2, color='r', label='Chance', alpha=.8)\n",
    "\n",
    "mean_tpr = np.mean(tprs, axis=0)\n",
    "mean_tpr[-1] = 1.0\n",
    "mean_auc = auc(mean_fpr, mean_tpr)\n",
    "std_auc = np.std(aucs)\n",
    "plt.plot(mean_fpr, mean_tpr, color='b',\n",
    "         label=r'Mean ROC (AUC = %0.2f $\\pm$ %0.2f)' % (mean_auc, std_auc),\n",
    "         lw=2, alpha=.8)\n",
    "\n",
    "std_tpr = np.std(tprs, axis=0)\n",
    "tprs_upper = np.minimum(mean_tpr + std_tpr, 1)\n",
    "tprs_lower = np.maximum(mean_tpr - std_tpr, 0)\n",
    "plt.fill_between(mean_fpr, tprs_lower, tprs_upper, color='grey', alpha=.2,\n",
    "                 label=r'$\\pm$ 1 std. dev.')\n",
    "\n",
    "plt.xlim([-0.05, 1.05])\n",
    "plt.ylim([-0.05, 1.05])\n",
    "plt.xlabel('False Positive Rate')\n",
    "plt.ylabel('True Positive Rate')\n",
    "plt.title('Receiver operating characteristic example')\n",
    "plt.legend(loc=\"lower right\")\n",
    "plt.show()\n",
    "    \n",
    "   \n",
    "# # print(cm)\n",
    "# print(cm[0])\n",
    "tp = fp = fn = tn = 0\n",
    "for m in cm:\n",
    "    tp += m[0][0]\n",
    "    fp += m[0][1]\n",
    "    \n",
    "    fn += m[1][0]\n",
    "    tn += m[1][1]\n",
    "    \n",
    "# print(tp, fp, fn, tn)\n",
    "finalCM = [[tp, fp], [fn, tn]]\n",
    "\n",
    "print(finalCM)\n",
    "ax = sns.heatmap(finalCM, annot=True, cbar=False, fmt='g')\n",
    "bottom, top = ax.get_ylim()\n",
    "ax.set_ylim(bottom + 0.5, top - 0.5)\n",
    "plt.ylabel('True Label')\n",
    "plt.xlabel('Predicted Label')\n",
    "plt.title('Confusion Matrix')"
   ]
  },
  {
   "cell_type": "code",
   "execution_count": 7,
   "metadata": {},
   "outputs": [
    {
     "name": "stdout",
     "output_type": "stream",
     "text": [
      "Epoch 1/10\n",
      "214050/214050 [==============================] - 2s 8us/step - loss: 0.4414 - binary_accuracy: 0.8171\n",
      "Epoch 2/10\n",
      "214050/214050 [==============================] - 1s 6us/step - loss: 0.3938 - binary_accuracy: 0.8498\n",
      "Epoch 3/10\n",
      "214050/214050 [==============================] - 1s 6us/step - loss: 0.3688 - binary_accuracy: 0.8609\n",
      "Epoch 4/10\n",
      "214050/214050 [==============================] - 1s 6us/step - loss: 0.3580 - binary_accuracy: 0.8632\n",
      "Epoch 5/10\n",
      "214050/214050 [==============================] - 1s 6us/step - loss: 0.3508 - binary_accuracy: 0.8655\n",
      "Epoch 6/10\n",
      "214050/214050 [==============================] - 1s 6us/step - loss: 0.3442 - binary_accuracy: 0.8671\n",
      "Epoch 7/10\n",
      "214050/214050 [==============================] - 1s 6us/step - loss: 0.3400 - binary_accuracy: 0.8686\n",
      "Epoch 8/10\n",
      "214050/214050 [==============================] - 1s 7us/step - loss: 0.3361 - binary_accuracy: 0.8701A: 0s - loss: 0.3371 - binary_accuracy:\n",
      "Epoch 9/10\n",
      "214050/214050 [==============================] - 1s 6us/step - loss: 0.3335 - binary_accuracy: 0.8708\n",
      "Epoch 10/10\n",
      "214050/214050 [==============================] - 1s 6us/step - loss: 0.3303 - binary_accuracy: 0.8722\n",
      "Epoch 1/10\n",
      "214050/214050 [==============================] - 2s 7us/step - loss: 0.4437 - binary_accuracy: 0.8141\n",
      "Epoch 2/10\n",
      "214050/214050 [==============================] - 1s 6us/step - loss: 0.3970 - binary_accuracy: 0.8435\n",
      "Epoch 3/10\n",
      "214050/214050 [==============================] - 1s 6us/step - loss: 0.3703 - binary_accuracy: 0.8589A: 0s - loss: 0.3705 - binary_accuracy: 0.858\n",
      "Epoch 4/10\n",
      "214050/214050 [==============================] - 1s 6us/step - loss: 0.3580 - binary_accuracy: 0.8635\n",
      "Epoch 5/10\n",
      "214050/214050 [==============================] - 1s 6us/step - loss: 0.3506 - binary_accuracy: 0.8656\n",
      "Epoch 6/10\n",
      "214050/214050 [==============================] - 1s 7us/step - loss: 0.3443 - binary_accuracy: 0.8672\n",
      "Epoch 7/10\n",
      "214050/214050 [==============================] - 1s 6us/step - loss: 0.3392 - binary_accuracy: 0.8696\n",
      "Epoch 8/10\n",
      "214050/214050 [==============================] - 1s 6us/step - loss: 0.3350 - binary_accuracy: 0.8715\n",
      "Epoch 9/10\n",
      "214050/214050 [==============================] - 1s 6us/step - loss: 0.3321 - binary_accuracy: 0.8720\n",
      "Epoch 10/10\n",
      "214050/214050 [==============================] - 1s 7us/step - loss: 0.3297 - binary_accuracy: 0.8735\n",
      "Epoch 1/10\n",
      "214050/214050 [==============================] - 1s 7us/step - loss: 0.4425 - binary_accuracy: 0.8179\n",
      "Epoch 2/10\n",
      "214050/214050 [==============================] - 1s 6us/step - loss: 0.3988 - binary_accuracy: 0.8446\n",
      "Epoch 3/10\n",
      "214050/214050 [==============================] - 1s 6us/step - loss: 0.3754 - binary_accuracy: 0.8558\n",
      "Epoch 4/10\n",
      "214050/214050 [==============================] - 1s 6us/step - loss: 0.3631 - binary_accuracy: 0.8619\n",
      "Epoch 5/10\n",
      "214050/214050 [==============================] - 1s 6us/step - loss: 0.3537 - binary_accuracy: 0.8651\n",
      "Epoch 6/10\n",
      "214050/214050 [==============================] - 1s 6us/step - loss: 0.3478 - binary_accuracy: 0.8673\n",
      "Epoch 7/10\n",
      "214050/214050 [==============================] - 1s 6us/step - loss: 0.3436 - binary_accuracy: 0.8686\n",
      "Epoch 8/10\n",
      "214050/214050 [==============================] - 2s 8us/step - loss: 0.3403 - binary_accuracy: 0.8700\n",
      "Epoch 9/10\n",
      "214050/214050 [==============================] - 1s 7us/step - loss: 0.3368 - binary_accuracy: 0.8718\n",
      "Epoch 10/10\n",
      "214050/214050 [==============================] - 2s 8us/step - loss: 0.3333 - binary_accuracy: 0.8727\n",
      "Epoch 1/10\n",
      "214051/214051 [==============================] - 1s 7us/step - loss: 0.4368 - binary_accuracy: 0.8194\n",
      "Epoch 2/10\n",
      "214051/214051 [==============================] - 1s 6us/step - loss: 0.3958 - binary_accuracy: 0.8441\n",
      "Epoch 3/10\n",
      "214051/214051 [==============================] - 1s 6us/step - loss: 0.3692 - binary_accuracy: 0.8598\n",
      "Epoch 4/10\n",
      "214051/214051 [==============================] - 1s 6us/step - loss: 0.3551 - binary_accuracy: 0.8653\n",
      "Epoch 5/10\n",
      "214051/214051 [==============================] - 1s 6us/step - loss: 0.3467 - binary_accuracy: 0.8673\n",
      "Epoch 6/10\n",
      "214051/214051 [==============================] - 1s 6us/step - loss: 0.3409 - binary_accuracy: 0.8693\n",
      "Epoch 7/10\n",
      "214051/214051 [==============================] - 1s 6us/step - loss: 0.3370 - binary_accuracy: 0.8704\n",
      "Epoch 8/10\n",
      "214051/214051 [==============================] - 1s 6us/step - loss: 0.3337 - binary_accuracy: 0.8704\n",
      "Epoch 9/10\n",
      "214051/214051 [==============================] - 1s 6us/step - loss: 0.3312 - binary_accuracy: 0.8715\n",
      "Epoch 10/10\n",
      "214051/214051 [==============================] - 1s 6us/step - loss: 0.3285 - binary_accuracy: 0.8725\n",
      "Epoch 1/10\n",
      "214051/214051 [==============================] - 2s 8us/step - loss: 0.4363 - binary_accuracy: 0.8205\n",
      "Epoch 2/10\n",
      "214051/214051 [==============================] - 1s 7us/step - loss: 0.3926 - binary_accuracy: 0.8491\n",
      "Epoch 3/10\n",
      "214051/214051 [==============================] - 1s 6us/step - loss: 0.3696 - binary_accuracy: 0.8599\n",
      "Epoch 4/10\n",
      "214051/214051 [==============================] - 1s 6us/step - loss: 0.3551 - binary_accuracy: 0.8652\n",
      "Epoch 5/10\n",
      "214051/214051 [==============================] - 1s 6us/step - loss: 0.3466 - binary_accuracy: 0.8686\n",
      "Epoch 6/10\n",
      "214051/214051 [==============================] - 1s 7us/step - loss: 0.3413 - binary_accuracy: 0.8697\n",
      "Epoch 7/10\n",
      "214051/214051 [==============================] - 1s 7us/step - loss: 0.3371 - binary_accuracy: 0.8712\n",
      "Epoch 8/10\n",
      "214051/214051 [==============================] - 1s 7us/step - loss: 0.3338 - binary_accuracy: 0.8722A: 0s - loss: 0.3333 - binary_accuracy: 0.8\n",
      "Epoch 9/10\n",
      "214051/214051 [==============================] - 1s 6us/step - loss: 0.3312 - binary_accuracy: 0.8729\n",
      "Epoch 10/10\n",
      "214051/214051 [==============================] - 1s 6us/step - loss: 0.3285 - binary_accuracy: 0.8740\n"
     ]
    },
    {
     "data": {
      "image/png": "[encoded data removed]",
      "text/plain": [
       "<Figure size 432x288 with 1 Axes>"
      ]
     },
     "metadata": {
      "needs_background": "light"
     },
     "output_type": "display_data"
    },
    {
     "name": "stdout",
     "output_type": "stream",
     "text": [
      "[[208952, 5218], [28183, 25210]]\n"
     ]
    },
    {
     "data": {
      "text/plain": [
       "Text(0.5, 1, 'Confusion Matrix')"
      ]
     },
     "execution_count": 7,
     "metadata": {},
     "output_type": "execute_result"
    },
    {
     "data": {
      "image/png": "[encoded data removed]",
      "text/plain": [
       "<Figure size 432x288 with 1 Axes>"
      ]
     },
     "metadata": {
      "needs_background": "light"
     },
     "output_type": "display_data"
    }
   ],
   "source": [
    "###### How do we use this in Cross Validation?\n",
    "\n",
    "from scipy import interp\n",
    "\n",
    "skf = StratifiedKFold(n_splits=5)\n",
    "\n",
    "tprs = []\n",
    "aucs = []\n",
    "mean_fpr = np.linspace(0, 1, 100)\n",
    "acc = []\n",
    "f1 = []\n",
    "cm = []\n",
    "i=0\n",
    "for trainIndex, textIndex in skf.split(X, y):\n",
    "    xTrain, xTest = X[trainIndex], X[textIndex]\n",
    "    yTrain, yTest = y[trainIndex], y[textIndex]\n",
    "    \n",
    "    model = Sequential()\n",
    "    model.add(Dense(32, activation='relu', input_dim=29))\n",
    "    model.add(Dropout(0.1))\n",
    "    model.add(Dense(32, activation='relu'))\n",
    "    model.add(Dropout(0.1))\n",
    "    model.add(Dense(1, activation='sigmoid'))\n",
    "    model.compile(optimizer = 'rmsprop',\n",
    "                  loss      = 'binary_crossentropy',\n",
    "                  metrics   = ['binary_accuracy'])\n",
    "\n",
    "    #  data\n",
    "    class_weights = class_weight.compute_class_weight('balanced',\n",
    "                                                 np.unique(yTrain),\n",
    "                                                 yTrain)  \n",
    "    # fit model\n",
    "    model.fit(xTrain, yTrain, epochs = 10, batch_size = 256, class_weight=class_weights)\n",
    "    \n",
    "    yPred_prob = model.predict(xTest, batch_size=128)\n",
    "    yPred = model.predict_classes(xTest)\n",
    "    # All Scores\n",
    "    acc.append(accuracy_score(yTest, yPred))\n",
    "    f1.append(f1_score(yTest,yPred))\n",
    "    cm.append(confusion_matrix(yTest,yPred))\n",
    "    \n",
    "    # ROC Curve\n",
    "    fpr, tpr, thresholds = roc_curve(yTest, yPred)\n",
    "    tprs.append(interp(mean_fpr, fpr, tpr))\n",
    "    tprs[-1][0] = 0.0\n",
    "    roc_auc = auc(fpr, tpr)\n",
    "    aucs.append(roc_auc)\n",
    "    plt.plot(fpr, tpr, lw=1, alpha=0.3,\n",
    "             label='ROC fold %d (AUC = %0.2f)' % (i, roc_auc))\n",
    "    i = i+1\n",
    "    \n",
    "plt.plot([0, 1], [0, 1], linestyle='--', lw=2, color='r', label='Chance', alpha=.8)\n",
    "\n",
    "mean_tpr = np.mean(tprs, axis=0)\n",
    "mean_tpr[-1] = 1.0\n",
    "mean_auc = auc(mean_fpr, mean_tpr)\n",
    "std_auc = np.std(aucs)\n",
    "plt.plot(mean_fpr, mean_tpr, color='b',\n",
    "         label=r'Mean ROC (AUC = %0.2f $\\pm$ %0.2f)' % (mean_auc, std_auc),\n",
    "         lw=2, alpha=.8)\n",
    "\n",
    "std_tpr = np.std(tprs, axis=0)\n",
    "tprs_upper = np.minimum(mean_tpr + std_tpr, 1)\n",
    "tprs_lower = np.maximum(mean_tpr - std_tpr, 0)\n",
    "plt.fill_between(mean_fpr, tprs_lower, tprs_upper, color='grey', alpha=.2,\n",
    "                 label=r'$\\pm$ 1 std. dev.')\n",
    "\n",
    "plt.xlim([-0.05, 1.05])\n",
    "plt.ylim([-0.05, 1.05])\n",
    "plt.xlabel('False Positive Rate')\n",
    "plt.ylabel('True Positive Rate')\n",
    "plt.title('Receiver operating characteristic example')\n",
    "plt.legend(loc=\"lower right\")\n",
    "plt.show()\n",
    "    \n",
    "   \n",
    "# # print(cm)\n",
    "# print(cm[0])\n",
    "tp = fp = fn = tn = 0\n",
    "for m in cm:\n",
    "    tp += m[0][0]\n",
    "    fp += m[0][1]\n",
    "    \n",
    "    fn += m[1][0]\n",
    "    tn += m[1][1]\n",
    "    \n",
    "# print(tp, fp, fn, tn)\n",
    "finalCM = [[tp, fp], [fn, tn]]\n",
    "\n",
    "print(finalCM)\n",
    "ax = sns.heatmap(finalCM, annot=True, cbar=False, fmt='g')\n",
    "bottom, top = ax.get_ylim()\n",
    "ax.set_ylim(bottom + 0.5, top - 0.5)\n",
    "plt.ylabel('True Label')\n",
    "plt.xlabel('Predicted Label')\n",
    "plt.title('Confusion Matrix')"
   ]
  },
  {
   "cell_type": "code",
   "execution_count": null,
   "metadata": {},
   "outputs": [],
   "source": []
  }
 ],
 "metadata": {
  "kernelspec": {
   "display_name": "Python 3",
   "language": "python",
   "name": "python3"
  },
  "language_info": {
   "codemirror_mode": {
    "name": "ipython",
    "version": 3
   },
   "file_extension": ".py",
   "mimetype": "text/x-python",
   "name": "python",
   "nbconvert_exporter": "python",
   "pygments_lexer": "ipython3",
   "version": "3.6.7"
  }
 },
 "nbformat": 4,
 "nbformat_minor": 4
}
